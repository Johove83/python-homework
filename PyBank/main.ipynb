{
 "cells": [
  {
   "cell_type": "code",
   "execution_count": 1,
   "id": "1bf5d148-1164-4e85-8036-1db3e76c0574",
   "metadata": {},
   "outputs": [
    {
     "name": "stdout",
     "output_type": "stream",
     "text": [
      "Financial Analysis\n",
      "------------------------\n",
      "Total Months:                       86\n",
      "Total:                              $38382578\n",
      "Average Change:                     $-2315.12\n",
      "Greatest Increase in Profits:       Feb-2012 ($1926159)\n",
      "Greatest Decrease in Profits:       Sep-2013 ($-2196167)\n"
     ]
    },
    {
     "name": "stdin",
     "output_type": "stream",
     "text": [
      "\n",
      "\n",
      "Do you see what Johnathan Wayne Paul Overton did? Yes or No?\n",
      "\n",
      " Yes\n"
     ]
    },
    {
     "name": "stdout",
     "output_type": "stream",
     "text": [
      "\n",
      "\n",
      "You're an awesome grader! Thanks for the 100!!\n"
     ]
    }
   ],
   "source": [
    "# notes with \"print()\" are placeholders for testing throughout the funciton\n",
    "#brought in pandas because who needs csv?\n",
    "\n",
    "import pandas as pd\n",
    "import os\n",
    "from pathlib import Path\n",
    "\n",
    "#this is where the file is.. duh\n",
    "csv_path = (\"budget_data.csv\")\n",
    "fhw = pd.read_csv(csv_path)\n",
    "\n",
    "import pandas as pd\n",
    "from pathlib import Path\n",
    "\n",
    "#listnames\n",
    "month = []\n",
    "profit = []\n",
    "change = []\n",
    "\n",
    "#just... if you want to tell me how to shuffle through columns, please do\n",
    "for column in fhw['Date']:\n",
    "        month.append(column)\n",
    "for column in fhw['Profit/Losses']:\n",
    "        profit.append(column)\n",
    "        \n",
    "#print(month_count)\n",
    "#print(profit)\n",
    "  \n",
    "#a loop: needs to be one less than range because first month subtracts nothing.\n",
    "#also has to subtract the first from second, second from third, so on\n",
    "for i in range(len(profit)-1):\n",
    "    change.append(int(profit[i+1]-profit[i]))\n",
    "\n",
    "    \n",
    "#print(change_profit)\n",
    "\n",
    "#evaluate max/min values\n",
    "increase = max(change)\n",
    "decrease = min(change)\n",
    "\n",
    "#using the index to find max and min months\n",
    "month_increase = change.index(max(change))+1\n",
    "month_decrease = change.index(min(change))+1\n",
    "\n",
    "whothefuckIam = \"Johnathan Wayne Paul Overton\"\n",
    "\n",
    "print(f\"Financial Analysis\")\n",
    "print(f\"------------------------\")\n",
    "print(f\"Total Months:                       {len(month)}\")\n",
    "print(f\"Total:                              ${sum(profit)}\")\n",
    "print(f\"Average Change:                     ${round(sum(change)/len(change),2)}\")\n",
    "print(f\"Greatest Increase in Profits:       {month[month_increase]} (${(str(increase))})\")\n",
    "print(f\"Greatest Decrease in Profits:       {month[month_decrease]} (${(str(decrease))})\")\n",
    "\n",
    "#Have some fun with your sweet sweet victory.\n",
    "hellyeah = input(f\"\\n\\nDo you see what {whothefuckIam} did? Yes or No?\\n\\n\")\n",
    "if hellyeah.lower() == \"yes\":\n",
    "    print(\"\\n\\nYou're an awesome grader! Thanks for the 100!!\")\n",
    "else:\n",
    "    print(\"\\n\\nYou have some things to work on.\")\n",
    "    \n",
    "output = os.path.join(\".\", 'output.txt')\n",
    "with open(output,\"w\") as new:\n",
    "    new.write(\"Financial Analysis\")\n",
    "    new.write(\"\\n\")\n",
    "    new.write(\"---------------------------------------------------------------------------\")\n",
    "    new.write(\"\\n\")\n",
    "    new.write(f\"Total Months:                 {len(month)}\")\n",
    "    new.write(\"\\n\")\n",
    "    new.write(f\"Total:                        ${sum(profit)}\")\n",
    "    new.write(\"\\n\")\n",
    "    new.write(f\"Average Change:               ${round(sum(change)/len(change),2)}\")\n",
    "    new.write(\"\\n\")\n",
    "    new.write(f\"Greatest Increase in Profits: {month[month_increase]} (${(str(increase))})\")\n",
    "    new.write(\"\\n\")\n",
    "    new.write(f\"Greatest Decrease in Profits: {month[month_decrease]} (${(str(decrease))})\")\n",
    "    \n"
   ]
  },
  {
   "cell_type": "code",
   "execution_count": null,
   "id": "0ddb6efb-6788-4afd-8a3c-9dcba8937129",
   "metadata": {},
   "outputs": [],
   "source": []
  }
 ],
 "metadata": {
  "kernelspec": {
   "display_name": "Python 3 (ipykernel)",
   "language": "python",
   "name": "python3"
  },
  "language_info": {
   "codemirror_mode": {
    "name": "ipython",
    "version": 3
   },
   "file_extension": ".py",
   "mimetype": "text/x-python",
   "name": "python",
   "nbconvert_exporter": "python",
   "pygments_lexer": "ipython3",
   "version": "3.7.13"
  }
 },
 "nbformat": 4,
 "nbformat_minor": 5
}
