{
 "cells": [
  {
   "cell_type": "code",
   "execution_count": 1,
   "id": "4ad505ac-4b45-4955-bd26-796bd34e2f24",
   "metadata": {},
   "outputs": [
    {
     "name": "stdout",
     "output_type": "stream",
     "text": [
      "        Date  Profit/Losses\n",
      "0   Jan-2010         867884\n",
      "1   Feb-2010         984655\n",
      "2   Mar-2010         322013\n",
      "3   Apr-2010         -69417\n",
      "4   May-2010         310503\n",
      "..       ...            ...\n",
      "81  Oct-2016         102685\n",
      "82  Nov-2016         795914\n",
      "83  Dec-2016          60988\n",
      "84  Jan-2017         138230\n",
      "85  Feb-2017         671099\n",
      "\n",
      "[86 rows x 2 columns]\n"
     ]
    },
    {
     "ename": "TypeError",
     "evalue": "unsupported operand type(s) for -: 'str' and 'str'",
     "output_type": "error",
     "traceback": [
      "\u001b[1;31m---------------------------------------------------------------------------\u001b[0m",
      "\u001b[1;31mTypeError\u001b[0m                                 Traceback (most recent call last)",
      "\u001b[1;32m~\\AppData\\Local\\Temp\\ipykernel_1880\\1690993654.py\u001b[0m in \u001b[0;36m<module>\u001b[1;34m\u001b[0m\n\u001b[0;32m     20\u001b[0m     \u001b[0mprofit\u001b[0m\u001b[1;33m.\u001b[0m\u001b[0mappend\u001b[0m\u001b[1;33m(\u001b[0m\u001b[0mrow\u001b[0m\u001b[1;33m[\u001b[0m\u001b[1;36m1\u001b[0m\u001b[1;33m]\u001b[0m\u001b[1;33m)\u001b[0m\u001b[1;33m\u001b[0m\u001b[1;33m\u001b[0m\u001b[0m\n\u001b[0;32m     21\u001b[0m \u001b[1;32mfor\u001b[0m \u001b[0mi\u001b[0m \u001b[1;32min\u001b[0m \u001b[0mrange\u001b[0m\u001b[1;33m(\u001b[0m\u001b[0mlen\u001b[0m\u001b[1;33m(\u001b[0m\u001b[0mprofit\u001b[0m\u001b[1;33m)\u001b[0m\u001b[1;33m-\u001b[0m\u001b[1;36m1\u001b[0m\u001b[1;33m)\u001b[0m\u001b[1;33m:\u001b[0m\u001b[1;33m\u001b[0m\u001b[1;33m\u001b[0m\u001b[0m\n\u001b[1;32m---> 22\u001b[1;33m     \u001b[0mchange_profit\u001b[0m\u001b[1;33m.\u001b[0m\u001b[0mappend\u001b[0m\u001b[1;33m(\u001b[0m\u001b[0mprofit\u001b[0m\u001b[1;33m[\u001b[0m\u001b[0mi\u001b[0m\u001b[1;33m+\u001b[0m\u001b[1;36m1\u001b[0m\u001b[1;33m]\u001b[0m\u001b[1;33m-\u001b[0m\u001b[0mprofit\u001b[0m\u001b[1;33m[\u001b[0m\u001b[0mi\u001b[0m\u001b[1;33m]\u001b[0m\u001b[1;33m)\u001b[0m\u001b[1;33m\u001b[0m\u001b[1;33m\u001b[0m\u001b[0m\n\u001b[0m\u001b[0;32m     23\u001b[0m \u001b[1;33m\u001b[0m\u001b[0m\n\u001b[0;32m     24\u001b[0m \u001b[1;31m#evaluate max/min values\u001b[0m\u001b[1;33m\u001b[0m\u001b[1;33m\u001b[0m\u001b[1;33m\u001b[0m\u001b[0m\n",
      "\u001b[1;31mTypeError\u001b[0m: unsupported operand type(s) for -: 'str' and 'str'"
     ]
    }
   ],
   "source": [
    "#importing packages which let me manipulate csv data\n",
    "import pandas as pd\n",
    "import os\n",
    "from pathlib import Path\n",
    "\n",
    "csv_path = (\"budget_data.csv\")\n",
    "records = pd.read_csv(csv_path)\n",
    "\n",
    "\n",
    "\n",
    "\n",
    "#lists to store csv data \n",
    "month_count = []\n",
    "profit = []\n",
    "change_profit = []\n",
    "print(records) \n",
    "                      \n",
    "#iterate through values and stack them into a list\n",
    "for row in records['Date']:\n",
    "    month_count.append(row[0])\n",
    "    profit.append(row[1])\n",
    "for i in range(len(profit)-1):\n",
    "    change_profit.append(profit[i+1]-profit[i])\n",
    "                      \n",
    "#evaluate max/min values\n",
    "increase = max(change_profit)\n",
    "decrease = min(change_profit)\n",
    "\n",
    "#using the index \n",
    "month_increase = change_profit.index(max(change_profit))+1\n",
    "month_decrease = change_profit.index(min(change_profit))+1\n",
    "\n",
    "\n",
    "print(f\"Financial Analysis\")\n",
    "print(f\"------------------------\")\n",
    "print(f\"Total Months:                       {len(month_count)}\")\n",
    "print(f\"Total:                              ${sum(profit)}\")\n",
    "print(f\"Average Change:                     {round(sum(change_profit)/len(change_profit),2)}\")\n",
    "print(f\"Greatest Increase in Profits:       {month_count[month_increase]} (${(str(increase))})\")\n",
    "print(f\"Greatest Decrease in Profits:       {month_count[month_decrease]} (${(str(decrease))})\")      \n",
    "\n",
    "output = os.path.join(\".\", 'output.txt')\n",
    "with open(output,\"w\") as new:\n",
    "    new.write(\"Financial Analysis\")\n",
    "    new.write(\"\\n\")\n",
    "    new.write(\"------------------------\")\n",
    "    new.write(\"\\n\")\n",
    "    new.write(f\"Total Months:{len(month_count)}\")\n",
    "    new.write(\"\\n\")\n",
    "    new.write(f\"Total: ${sum(profit)}\")\n",
    "    new.write(\"\\n\")\n",
    "    new.write(f\"Average Change: {round(sum(change_profit)/len(change_profit),2)}\")\n",
    "    new.write(\"\\n\")\n",
    "    new.write(f\"Greatest Increase in Profits: {month_count[month_increase]} (${(str(increase))})\")\n",
    "    new.write(\"\\n\")\n",
    "    new.write(f\"Greatest Decrease in Profits: {month_count[month_decrease]} (${(str(decrease))})\")\n",
    "\n",
    "\n"
   ]
  }
 ],
 "metadata": {
  "kernelspec": {
   "display_name": "Python 3 (ipykernel)",
   "language": "python",
   "name": "python3"
  },
  "language_info": {
   "codemirror_mode": {
    "name": "ipython",
    "version": 3
   },
   "file_extension": ".py",
   "mimetype": "text/x-python",
   "name": "python",
   "nbconvert_exporter": "python",
   "pygments_lexer": "ipython3",
   "version": "3.7.13"
  }
 },
 "nbformat": 4,
 "nbformat_minor": 5
}
