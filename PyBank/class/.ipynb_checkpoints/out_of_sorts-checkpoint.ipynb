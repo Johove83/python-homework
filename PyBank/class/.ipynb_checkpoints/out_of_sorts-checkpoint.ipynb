{
 "cells": [
  {
   "cell_type": "code",
   "execution_count": 1,
   "id": "a1c38f39-fb30-4b30-80ba-8ef6b2285b0c",
   "metadata": {},
   "outputs": [
    {
     "data": {
      "text/plain": [
       "0         NaN\n",
       "1    0.015558\n",
       "2    0.012907\n",
       "3    0.016847\n",
       "4   -0.002371\n",
       "5   -0.016918\n",
       "Name: Close, dtype: float64"
      ]
     },
     "execution_count": 1,
     "metadata": {},
     "output_type": "execute_result"
    }
   ],
   "source": [
    "import pandas as pd\n",
    "from pathlib import Path\n",
    "%matplotlib inline\n",
    "\n",
    "csv_path = Path(\"tsla_google_finance.csv\")\n",
    "tsla_df = pd.read_csv(csv_path)\n",
    "tsla_df.head()\n",
    "\n",
    "tsla_df.set_index(\"Date\")\n",
    "\n",
    "tsla_df.isnull()\n",
    "tsla_df.dropna()\n",
    "tsla_df.isnull().sum()\n",
    "\n",
    "tsla_returns = tsla_df['Close'].pct_change()\n",
    "tsla_returns\n",
    "\n",
    "tsla_returns.sort_values(ascending = False)\n",
    "\n",
    "tsla_top_five = tsla_returns.iloc[:6]\n",
    "\n",
    "tsla_top_five.dropna()\n",
    "\n",
    "tsla_top_five\n",
    "\n"
   ]
  }
 ],
 "metadata": {
  "kernelspec": {
   "display_name": "Python 3 (ipykernel)",
   "language": "python",
   "name": "python3"
  },
  "language_info": {
   "codemirror_mode": {
    "name": "ipython",
    "version": 3
   },
   "file_extension": ".py",
   "mimetype": "text/x-python",
   "name": "python",
   "nbconvert_exporter": "python",
   "pygments_lexer": "ipython3",
   "version": "3.7.13"
  }
 },
 "nbformat": 4,
 "nbformat_minor": 5
}
